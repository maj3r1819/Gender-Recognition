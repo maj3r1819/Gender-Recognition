{
 "cells": [
  {
   "cell_type": "markdown",
   "id": "7921989c",
   "metadata": {},
   "source": [
    "## Load Imports"
   ]
  },
  {
   "cell_type": "code",
   "execution_count": null,
   "id": "173b6224",
   "metadata": {},
   "outputs": [],
   "source": [
    "import os\n",
    "from random import shuffle\n",
    "import numpy as np\n",
    "import cv2\n",
    "import numpy as np"
   ]
  },
  {
   "cell_type": "markdown",
   "id": "684a2a57",
   "metadata": {},
   "source": [
    "## Set Paths and variables\n",
    "Initialized the directories and set the image size and learning rate"
   ]
  },
  {
   "cell_type": "code",
   "execution_count": 30,
   "id": "fad4fded",
   "metadata": {},
   "outputs": [],
   "source": [
    "female_eyes = 'D:/Projects/Internship Trendzlink/Text Detection/CNN/Train/femaleeyes'\n",
    "male_eyes = 'D:/Projects/Internship Trendzlink/Text Detection/CNN/Train/maleeyes'\n",
    "test_set = 'D:/Projects/Internship Trendzlink/Text Detection/CNN/family'\n",
    "img_size = 50\n",
    "lr = 1e-3\n",
    "MODEL_NAME = 'model'\n",
    "train_data = []"
   ]
  },
  {
   "cell_type": "code",
   "execution_count": 3,
   "id": "4ba9e028",
   "metadata": {},
   "outputs": [],
   "source": [
    "def train_male(train_data):\n",
    "    for img in os.listdir(male_eyes):\n",
    "        path = os.path.join(male_eyes, img)\n",
    "        image = cv2.resize(cv2.imread(path), (img_size, img_size))\n",
    "        train_data.append([np.array(image), np.array([0,1])])\n",
    "    return train_data\n",
    "        "
   ]
  },
  {
   "cell_type": "code",
   "execution_count": 4,
   "id": "63d51405",
   "metadata": {},
   "outputs": [],
   "source": [
    "def train_female(train_data):\n",
    "    for img in os.listdir(female_eyes):\n",
    "        path = os.path.join(female_eyes, img)\n",
    "        image = cv2.resize(cv2.imread(path), (img_size, img_size))\n",
    "        train_data.append([np.array(image), np.array([1,0])])\n",
    "    shuffle(train_data)\n",
    "    return train_data"
   ]
  },
  {
   "cell_type": "code",
   "execution_count": 34,
   "id": "94bd891d",
   "metadata": {},
   "outputs": [],
   "source": [
    "def process_test_data():\n",
    "    test_data = []\n",
    "    for img in os.listdir(test_set):\n",
    "        path = os.path.join(test_set, img)\n",
    "        img = cv2.resize(cv2.imread(path), (img_size, img_size))\n",
    "        test_data.append([np.array(img), ['X']])\n",
    "    shuffle(test_data)\n",
    "    return test_data"
   ]
  },
  {
   "cell_type": "code",
   "execution_count": 5,
   "id": "633e5a70",
   "metadata": {},
   "outputs": [],
   "source": [
    "train_data = train_male(train_data)\n"
   ]
  },
  {
   "cell_type": "code",
   "execution_count": 6,
   "id": "20e42228",
   "metadata": {},
   "outputs": [],
   "source": [
    "train_data = train_female(train_data)"
   ]
  },
  {
   "cell_type": "code",
   "execution_count": 50,
   "id": "75dc4b07",
   "metadata": {},
   "outputs": [
    {
     "name": "stdout",
     "output_type": "stream",
     "text": [
      "7\n"
     ]
    }
   ],
   "source": [
    "test_data = process_test_data()\n",
    "print(len(test_data))"
   ]
  },
  {
   "cell_type": "code",
   "execution_count": 7,
   "id": "419732bd",
   "metadata": {},
   "outputs": [
    {
     "name": "stdout",
     "output_type": "stream",
     "text": [
      "9041\n"
     ]
    }
   ],
   "source": [
    "print(len(train_data))"
   ]
  },
  {
   "cell_type": "code",
   "execution_count": 8,
   "id": "db791224",
   "metadata": {},
   "outputs": [],
   "source": [
    "train = train_data[:-1000]\n",
    "test =  train_data[-1000:]\n",
    "\n"
   ]
  },
  {
   "cell_type": "code",
   "execution_count": 9,
   "id": "7972b233",
   "metadata": {},
   "outputs": [],
   "source": [
    "train_X = np.array([i[0] for i in train]).reshape(-1, img_size,img_size, 3 )\n",
    "train_Y = [i[1] for i in train]\n",
    "\n",
    "test_X = np.array([i[0] for i in test]).reshape(-1, img_size,img_size, 3 )\n",
    "test_Y = [i[1] for i in test]"
   ]
  },
  {
   "cell_type": "code",
   "execution_count": 10,
   "id": "82d86d4a",
   "metadata": {},
   "outputs": [
    {
     "name": "stdout",
     "output_type": "stream",
     "text": [
      "WARNING:tensorflow:From d:\\projects\\internship trendzlink\\text detection\\venv\\lib\\site-packages\\tensorflow\\python\\compat\\v2_compat.py:96: disable_resource_variables (from tensorflow.python.ops.variable_scope) is deprecated and will be removed in a future version.\n",
      "Instructions for updating:\n",
      "non-resource variables are not supported in the long term\n",
      "curses is not supported on this machine (please install/reinstall curses for an optimal experience)\n",
      "WARNING:tensorflow:From d:\\projects\\internship trendzlink\\text detection\\venv\\lib\\site-packages\\tflearn\\initializations.py:110: calling UniformUnitScaling.__init__ (from tensorflow.python.ops.init_ops) with dtype is deprecated and will be removed in a future version.\n",
      "Instructions for updating:\n",
      "Call initializer instance with the dtype argument instead of passing it to the constructor\n",
      "WARNING:tensorflow:From d:\\projects\\internship trendzlink\\text detection\\venv\\lib\\site-packages\\tensorflow\\python\\util\\deprecation.py:535: UniformUnitScaling.__init__ (from tensorflow.python.ops.init_ops) is deprecated and will be removed in a future version.\n",
      "Instructions for updating:\n",
      "Use tf.initializers.variance_scaling instead with distribution=uniform to get equivalent behavior.\n",
      "WARNING:tensorflow:From d:\\projects\\internship trendzlink\\text detection\\venv\\lib\\site-packages\\tflearn\\initializations.py:164: calling TruncatedNormal.__init__ (from tensorflow.python.ops.init_ops) with dtype is deprecated and will be removed in a future version.\n",
      "Instructions for updating:\n",
      "Call initializer instance with the dtype argument instead of passing it to the constructor\n",
      "WARNING:tensorflow:From d:\\projects\\internship trendzlink\\text detection\\venv\\lib\\site-packages\\tensorflow\\python\\util\\dispatch.py:206: calling dropout (from tensorflow.python.ops.nn_ops) with keep_prob is deprecated and will be removed in a future version.\n",
      "Instructions for updating:\n",
      "Please use `rate` instead of `keep_prob`. Rate should be set to `rate = 1 - keep_prob`.\n"
     ]
    }
   ],
   "source": [
    "import tflearn\n",
    "from tflearn.layers.conv import conv_2d, max_pool_2d\n",
    "from tflearn.layers.core import input_data, dropout, fully_connected\n",
    "from tflearn.layers.estimator import regression\n",
    "\n",
    "from tensorflow.python.framework import ops\n",
    "ops.reset_default_graph()\n",
    "\n",
    "\n",
    "# Building convolutional convnet\n",
    "convnet = input_data(shape=[None, img_size, img_size, 3], name='input')\n",
    "# http://tflearn.org/layers/conv/\n",
    "# http://tflearn.org/activations/\n",
    "\n",
    "\n",
    "convnet = conv_2d(convnet, 32, 2, activation='relu')\n",
    "convnet = max_pool_2d(convnet, 2)\n",
    "\n",
    "convnet = conv_2d(convnet, 64, 2, activation='relu')\n",
    "convnet = max_pool_2d(convnet, 2)\n",
    "\n",
    "convnet = conv_2d(convnet, 32, 2, activation='relu')\n",
    "convnet = max_pool_2d(convnet, 2)\n",
    "\n",
    "convnet = conv_2d(convnet, 64, 2, activation='relu')\n",
    "convnet = max_pool_2d(convnet, 2)\n",
    "\n",
    "convnet = conv_2d(convnet, 32, 2, activation='relu')\n",
    "convnet = max_pool_2d(convnet, 2)\n",
    "\n",
    "convnet = conv_2d(convnet, 64, 2, activation='relu')\n",
    "convnet = max_pool_2d(convnet, 2)\n",
    "\n",
    "convnet = conv_2d(convnet, 32, 2, activation='relu')\n",
    "convnet = max_pool_2d(convnet, 2)\n",
    "\n",
    "\n",
    "convnet = conv_2d(convnet, 64, 2, activation='relu')\n",
    "convnet = max_pool_2d(convnet, 2)\n",
    "\n",
    "convnet = conv_2d(convnet, 32, 2, activation='relu')\n",
    "convnet = max_pool_2d(convnet, 2)\n",
    "\n",
    "convnet = conv_2d(convnet, 64, 2, activation='relu')\n",
    "convnet = max_pool_2d(convnet, 2)\n",
    "\n",
    "convnet = conv_2d(convnet, 32, 2, activation='relu')\n",
    "convnet = max_pool_2d(convnet, 2)\n",
    "\n",
    "convnet = conv_2d(convnet, 64, 2, activation='relu')\n",
    "convnet = max_pool_2d(convnet, 2)\n",
    "\n",
    "convnet = fully_connected(convnet, 1024, activation='relu')\n",
    "convnet = dropout(convnet, 0.8)\n",
    "\n",
    "convnet = fully_connected(convnet, 2, activation='softmax')\n",
    "convnet = regression(convnet, optimizer='adam', learning_rate=lr, loss='categorical_crossentropy', name='targets')\n",
    "\n",
    "model = tflearn.DNN(convnet, tensorboard_dir = 'log')\n"
   ]
  },
  {
   "cell_type": "code",
   "execution_count": 11,
   "id": "4cefb241",
   "metadata": {},
   "outputs": [
    {
     "name": "stdout",
     "output_type": "stream",
     "text": [
      "Training Step: 6299  | total loss: \u001b[1m\u001b[32m0.01501\u001b[0m\u001b[0m | time: 15.606s\n",
      "| Adam | epoch: 050 | loss: 0.01501 - acc: 0.9955 -- iter: 8000/8041\n",
      "Training Step: 6300  | total loss: \u001b[1m\u001b[32m0.01409\u001b[0m\u001b[0m | time: 16.733s\n",
      "| Adam | epoch: 050 | loss: 0.01409 - acc: 0.9960 | val_loss: 0.37750 - val_acc: 0.9220 -- iter: 8041/8041\n",
      "--\n"
     ]
    }
   ],
   "source": [
    "model.fit({'input': train_X}, {'targets': train_Y}, n_epoch=50, validation_set=({'input': test_X}, {'targets': test_Y}), \n",
    "    snapshot_step=500, show_metric=True, run_id=MODEL_NAME)"
   ]
  },
  {
   "cell_type": "code",
   "execution_count": 29,
   "id": "d15759ed",
   "metadata": {},
   "outputs": [
    {
     "name": "stdout",
     "output_type": "stream",
     "text": [
      "INFO:tensorflow:D:\\Projects\\Internship Trendzlink\\Text Detection\\CNN\\gender_detector is not in all_model_checkpoint_paths. Manually adding it.\n"
     ]
    }
   ],
   "source": [
    "model.save('gender_detector')"
   ]
  },
  {
   "cell_type": "code",
   "execution_count": 49,
   "id": "469f0ea5",
   "metadata": {},
   "outputs": [
    {
     "data": {
      "image/png": "[encoded data removed]",
      "text/plain": [
       "<Figure size 432x288 with 6 Axes>"
      ]
     },
     "metadata": {
      "needs_background": "light"
     },
     "output_type": "display_data"
    }
   ],
   "source": [
    "import matplotlib.pyplot as plt\n",
    "\n",
    "\n",
    "\n",
    "fig=plt.figure()\n",
    "\n",
    "for num,data in enumerate(test_data[:7]):\n",
    "    # Female: [1,0]\n",
    "    # Male: [0,1]\n",
    "    \n",
    "    img_num = data[1]\n",
    "    img_data = data[0]\n",
    "    \n",
    "    y = fig.add_subplot(3,4,num+1)\n",
    "    orig = img_data\n",
    "    data = img_data.reshape(img_size,img_size,3)\n",
    "    #model_out = model.predict([data])[0]\n",
    "    model_out = model.predict([data])[0]\n",
    "    model_out = model_out.round()\n",
    "#     print(model_out)\n",
    "    \n",
    "    if model_out[0] == 0: str_label='Male'\n",
    "    else: str_label='Female'\n",
    "        \n",
    "    y.imshow(orig,cmap='gray')\n",
    "    plt.title(str_label)\n",
    "    y.axes.get_xaxis().set_visible(False)\n",
    "    y.axes.get_yaxis().set_visible(False)\n",
    "plt.show()\n"
   ]
  }
 ],
 "metadata": {
  "kernelspec": {
   "display_name": "Python 3",
   "language": "python",
   "name": "python3"
  },
  "language_info": {
   "codemirror_mode": {
    "name": "ipython",
    "version": 3
   },
   "file_extension": ".py",
   "mimetype": "text/x-python",
   "name": "python",
   "nbconvert_exporter": "python",
   "pygments_lexer": "ipython3",
   "version": "3.9.2"
  }
 },
 "nbformat": 4,
 "nbformat_minor": 5
}
